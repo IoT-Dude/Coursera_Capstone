{
 "cells": [
  {
   "cell_type": "markdown",
   "id": "37f0c73b",
   "metadata": {},
   "source": [
    "<font size=\"12\">Capstone Project Notebook </font>\n",
    "<br><br><br>\n",
    "This notebook will be mainly used for the capstone project\n",
    "<br><br>\n",
    "Patrik Ackell Data analyst\n",
    "<br>"
   ]
  },
  {
   "cell_type": "code",
   "execution_count": 3,
   "id": "1c74bdcc",
   "metadata": {},
   "outputs": [],
   "source": [
    "import pandas as pd\n",
    "import numpy as np"
   ]
  },
  {
   "cell_type": "code",
   "execution_count": 5,
   "id": "115c7d2c",
   "metadata": {},
   "outputs": [
    {
     "name": "stdout",
     "output_type": "stream",
     "text": [
      "Hello Capstone Project Course!!!\n"
     ]
    }
   ],
   "source": [
    "print(\"Hello Capstone Project Course!!!\")"
   ]
  },
  {
   "cell_type": "code",
   "execution_count": null,
   "id": "94587150",
   "metadata": {},
   "outputs": [],
   "source": []
  },
  {
   "cell_type": "code",
   "execution_count": null,
   "id": "483c9bfc",
   "metadata": {},
   "outputs": [],
   "source": []
  }
 ],
 "metadata": {
  "kernelspec": {
   "display_name": "Python 3",
   "language": "python",
   "name": "python3"
  },
  "language_info": {
   "codemirror_mode": {
    "name": "ipython",
    "version": 3
   },
   "file_extension": ".py",
   "mimetype": "text/x-python",
   "name": "python",
   "nbconvert_exporter": "python",
   "pygments_lexer": "ipython3",
   "version": "3.8.8"
  }
 },
 "nbformat": 4,
 "nbformat_minor": 5
}
